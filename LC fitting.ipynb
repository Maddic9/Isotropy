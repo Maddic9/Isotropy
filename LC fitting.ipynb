{
 "cells": [
  {
   "cell_type": "markdown",
   "metadata": {},
   "source": [
    "Need to clone lsst/throughputs and setenv THROUGHPUTS_DIR to point to that directory first."
   ]
  },
  {
   "cell_type": "code",
   "execution_count": 1,
   "metadata": {
    "collapsed": false
   },
   "outputs": [],
   "source": [
    "import sncosmo\n",
    "import analyzeSN as ans\n",
    "\n",
    "%matplotlib inline\n",
    "import matplotlib.pyplot as plt\n",
    "import seaborn as sns\n",
    "sns.set()"
   ]
  },
  {
   "cell_type": "markdown",
   "metadata": {},
   "source": [
    "# Comparison of model and simulated data\n",
    "We already know how to extract the data from the simulations. The data is the model light curve + noise. The model used here is SALT2, which has a few parameters ['x0', 'x1', 'c', 'z', 't0']. We must estimate the values of these parameters from the data"
   ]
  },
  {
   "cell_type": "code",
   "execution_count": 3,
   "metadata": {
    "collapsed": false
   },
   "outputs": [
    {
     "name": "stdout",
     "output_type": "stream",
     "text": [
      "(1622, 78)\n"
     ]
    }
   ],
   "source": [
    "simdata = ans.SNANASims.fromSNANAfileroot('LSST_Ia', location='ENIGMA_LSSTMAIN/', coerce_inds2int=False)\n",
    "print simdata.headData.shape"
   ]
  },
  {
   "cell_type": "code",
   "execution_count": 4,
   "metadata": {
    "collapsed": false
   },
   "outputs": [
    {
     "name": "stdout",
     "output_type": "stream",
     "text": [
      "14121\n"
     ]
    },
    {
     "data": {
      "text/html": [
       "<div>\n",
       "<table border=\"1\" class=\"dataframe\">\n",
       "  <thead>\n",
       "    <tr style=\"text-align: right;\">\n",
       "      <th></th>\n",
       "      <th>IAUC</th>\n",
       "      <th>FAKE</th>\n",
       "      <th>RA</th>\n",
       "      <th>DECL</th>\n",
       "      <th>PIXSIZE</th>\n",
       "      <th>NXPIX</th>\n",
       "      <th>NYPIX</th>\n",
       "      <th>SNTYPE</th>\n",
       "      <th>NOBS</th>\n",
       "      <th>PTROBS_MIN</th>\n",
       "      <th>...</th>\n",
       "      <th>SIM_EXPOSURE_r</th>\n",
       "      <th>SIM_EXPOSURE_i</th>\n",
       "      <th>SIM_EXPOSURE_z</th>\n",
       "      <th>SIM_EXPOSURE_Y</th>\n",
       "      <th>SIM_GALFRAC_u</th>\n",
       "      <th>SIM_GALFRAC_g</th>\n",
       "      <th>SIM_GALFRAC_r</th>\n",
       "      <th>SIM_GALFRAC_i</th>\n",
       "      <th>SIM_GALFRAC_z</th>\n",
       "      <th>SIM_GALFRAC_Y</th>\n",
       "    </tr>\n",
       "    <tr>\n",
       "      <th>SNID</th>\n",
       "      <th></th>\n",
       "      <th></th>\n",
       "      <th></th>\n",
       "      <th></th>\n",
       "      <th></th>\n",
       "      <th></th>\n",
       "      <th></th>\n",
       "      <th></th>\n",
       "      <th></th>\n",
       "      <th></th>\n",
       "      <th></th>\n",
       "      <th></th>\n",
       "      <th></th>\n",
       "      <th></th>\n",
       "      <th></th>\n",
       "      <th></th>\n",
       "      <th></th>\n",
       "      <th></th>\n",
       "      <th></th>\n",
       "      <th></th>\n",
       "      <th></th>\n",
       "    </tr>\n",
       "  </thead>\n",
       "  <tbody>\n",
       "    <tr>\n",
       "      <th>5930</th>\n",
       "      <td>NULL</td>\n",
       "      <td>2</td>\n",
       "      <td>1.692362</td>\n",
       "      <td>-0.707741</td>\n",
       "      <td>0.2</td>\n",
       "      <td>-9</td>\n",
       "      <td>-9</td>\n",
       "      <td>1</td>\n",
       "      <td>16</td>\n",
       "      <td>8356</td>\n",
       "      <td>...</td>\n",
       "      <td>1.0</td>\n",
       "      <td>1.0</td>\n",
       "      <td>1.0</td>\n",
       "      <td>1.0</td>\n",
       "      <td>-9.0</td>\n",
       "      <td>-9.0</td>\n",
       "      <td>-9.0</td>\n",
       "      <td>-9.0</td>\n",
       "      <td>-9.0</td>\n",
       "      <td>-9.0</td>\n",
       "    </tr>\n",
       "    <tr>\n",
       "      <th>14049</th>\n",
       "      <td>NULL</td>\n",
       "      <td>2</td>\n",
       "      <td>1.336769</td>\n",
       "      <td>-0.358409</td>\n",
       "      <td>0.2</td>\n",
       "      <td>-9</td>\n",
       "      <td>-9</td>\n",
       "      <td>1</td>\n",
       "      <td>12</td>\n",
       "      <td>20510</td>\n",
       "      <td>...</td>\n",
       "      <td>1.0</td>\n",
       "      <td>1.0</td>\n",
       "      <td>1.0</td>\n",
       "      <td>1.0</td>\n",
       "      <td>-9.0</td>\n",
       "      <td>-9.0</td>\n",
       "      <td>-9.0</td>\n",
       "      <td>-9.0</td>\n",
       "      <td>-9.0</td>\n",
       "      <td>-9.0</td>\n",
       "    </tr>\n",
       "    <tr>\n",
       "      <th>14121</th>\n",
       "      <td>NULL</td>\n",
       "      <td>2</td>\n",
       "      <td>5.800154</td>\n",
       "      <td>-0.356251</td>\n",
       "      <td>0.2</td>\n",
       "      <td>-9</td>\n",
       "      <td>-9</td>\n",
       "      <td>1</td>\n",
       "      <td>23</td>\n",
       "      <td>20626</td>\n",
       "      <td>...</td>\n",
       "      <td>1.0</td>\n",
       "      <td>1.0</td>\n",
       "      <td>1.0</td>\n",
       "      <td>1.0</td>\n",
       "      <td>-9.0</td>\n",
       "      <td>-9.0</td>\n",
       "      <td>-9.0</td>\n",
       "      <td>-9.0</td>\n",
       "      <td>-9.0</td>\n",
       "      <td>-9.0</td>\n",
       "    </tr>\n",
       "    <tr>\n",
       "      <th>15396</th>\n",
       "      <td>NULL</td>\n",
       "      <td>2</td>\n",
       "      <td>1.826473</td>\n",
       "      <td>-0.301402</td>\n",
       "      <td>0.2</td>\n",
       "      <td>-9</td>\n",
       "      <td>-9</td>\n",
       "      <td>1</td>\n",
       "      <td>13</td>\n",
       "      <td>22787</td>\n",
       "      <td>...</td>\n",
       "      <td>1.0</td>\n",
       "      <td>1.0</td>\n",
       "      <td>1.0</td>\n",
       "      <td>1.0</td>\n",
       "      <td>-9.0</td>\n",
       "      <td>-9.0</td>\n",
       "      <td>-9.0</td>\n",
       "      <td>-9.0</td>\n",
       "      <td>-9.0</td>\n",
       "      <td>-9.0</td>\n",
       "    </tr>\n",
       "    <tr>\n",
       "      <th>15824</th>\n",
       "      <td>NULL</td>\n",
       "      <td>2</td>\n",
       "      <td>5.399995</td>\n",
       "      <td>-0.281906</td>\n",
       "      <td>0.2</td>\n",
       "      <td>-9</td>\n",
       "      <td>-9</td>\n",
       "      <td>1</td>\n",
       "      <td>27</td>\n",
       "      <td>23491</td>\n",
       "      <td>...</td>\n",
       "      <td>1.0</td>\n",
       "      <td>1.0</td>\n",
       "      <td>1.0</td>\n",
       "      <td>1.0</td>\n",
       "      <td>-9.0</td>\n",
       "      <td>-9.0</td>\n",
       "      <td>-9.0</td>\n",
       "      <td>-9.0</td>\n",
       "      <td>-9.0</td>\n",
       "      <td>-9.0</td>\n",
       "    </tr>\n",
       "  </tbody>\n",
       "</table>\n",
       "<p>5 rows × 78 columns</p>\n",
       "</div>"
      ],
      "text/plain": [
       "           IAUC  FAKE        RA      DECL  PIXSIZE  NXPIX  NYPIX  SNTYPE  \\\n",
       "SNID                                                                       \n",
       "5930   NULL         2  1.692362 -0.707741      0.2     -9     -9       1   \n",
       "14049  NULL         2  1.336769 -0.358409      0.2     -9     -9       1   \n",
       "14121  NULL         2  5.800154 -0.356251      0.2     -9     -9       1   \n",
       "15396  NULL         2  1.826473 -0.301402      0.2     -9     -9       1   \n",
       "15824  NULL         2  5.399995 -0.281906      0.2     -9     -9       1   \n",
       "\n",
       "       NOBS  PTROBS_MIN      ...        SIM_EXPOSURE_r  SIM_EXPOSURE_i  \\\n",
       "SNID                         ...                                         \n",
       "5930     16        8356      ...                   1.0             1.0   \n",
       "14049    12       20510      ...                   1.0             1.0   \n",
       "14121    23       20626      ...                   1.0             1.0   \n",
       "15396    13       22787      ...                   1.0             1.0   \n",
       "15824    27       23491      ...                   1.0             1.0   \n",
       "\n",
       "       SIM_EXPOSURE_z  SIM_EXPOSURE_Y  SIM_GALFRAC_u  SIM_GALFRAC_g  \\\n",
       "SNID                                                                  \n",
       "5930              1.0             1.0           -9.0           -9.0   \n",
       "14049             1.0             1.0           -9.0           -9.0   \n",
       "14121             1.0             1.0           -9.0           -9.0   \n",
       "15396             1.0             1.0           -9.0           -9.0   \n",
       "15824             1.0             1.0           -9.0           -9.0   \n",
       "\n",
       "       SIM_GALFRAC_r  SIM_GALFRAC_i  SIM_GALFRAC_z  SIM_GALFRAC_Y  \n",
       "SNID                                                               \n",
       "5930            -9.0           -9.0           -9.0           -9.0  \n",
       "14049           -9.0           -9.0           -9.0           -9.0  \n",
       "14121           -9.0           -9.0           -9.0           -9.0  \n",
       "15396           -9.0           -9.0           -9.0           -9.0  \n",
       "15824           -9.0           -9.0           -9.0           -9.0  \n",
       "\n",
       "[5 rows x 78 columns]"
      ]
     },
     "execution_count": 4,
     "metadata": {},
     "output_type": "execute_result"
    }
   ],
   "source": [
    "hd = simdata.headData.query('REDSHIFT_FINAL > 0.2 and REDSHIFT_FINAL < 0.25').head(5).copy()\n",
    "#hd = simdata.headData.query('REDSHIFT_FINAL < 0.1').head(5).copy()\n",
    "snid = hd.index.values[2]\n",
    "print snid\n",
    "hd"
   ]
  },
  {
   "cell_type": "code",
   "execution_count": 5,
   "metadata": {
    "collapsed": false
   },
   "outputs": [
    {
     "name": "stdout",
     "output_type": "stream",
     "text": [
      "(23, 22)\n"
     ]
    }
   ],
   "source": [
    "lcobj = simdata.get_SNANA_photometry(snid=snid)\n",
    "print lcobj.lightCurve.shape\n",
    "#lcobj.lightCurve"
   ]
  },
  {
   "cell_type": "code",
   "execution_count": 6,
   "metadata": {
    "collapsed": false
   },
   "outputs": [
    {
     "name": "stdout",
     "output_type": "stream",
     "text": [
      "IAUC                      NULL    \n",
      "FAKE                             2\n",
      "RA                         5.80015\n",
      "DECL                     -0.356251\n",
      "PIXSIZE                        0.2\n",
      "NXPIX                           -9\n",
      "NYPIX                           -9\n",
      "SNTYPE                           1\n",
      "NOBS                            23\n",
      "PTROBS_MIN                   20626\n",
      "PTROBS_MAX                   20648\n",
      "MWEBV                         0.01\n",
      "MWEBV_ERR                   0.0016\n",
      "REDSHIFT_HELIO             0.21192\n",
      "REDSHIFT_HELIO_ERR          0.0005\n",
      "REDSHIFT_FINAL            0.210506\n",
      "REDSHIFT_FINAL_ERR          0.0005\n",
      "HOSTGAL_OBJID                14191\n",
      "HOSTGAL_PHOTOZ            0.160185\n",
      "HOSTGAL_PHOTOZ_ERR           0.025\n",
      "HOSTGAL_SPECZ                    0\n",
      "HOSTGAL_SPECZ_ERR                0\n",
      "HOSTGAL_SNSEP                 -999\n",
      "HOSTGAL_LOGMASS                 -9\n",
      "HOSTGAL_LOGMASS_ERR             -9\n",
      "HOSTGAL_MAG_u                  999\n",
      "HOSTGAL_MAG_g                  999\n",
      "HOSTGAL_MAG_r                  999\n",
      "HOSTGAL_MAG_i                  999\n",
      "HOSTGAL_MAG_z                  999\n",
      "                          ...     \n",
      "SIM_VPEC                        -0\n",
      "SIM_DLMU                   40.0722\n",
      "SIM_RA                     5.80015\n",
      "SIM_DECL                 -0.356251\n",
      "SIM_MWEBV                0.0109527\n",
      "SIM_PEAKMJD                49576.3\n",
      "SIM_SALT2x0            9.91327e-05\n",
      "SIM_SALT2x1               -1.76495\n",
      "SIM_SALT2c              -0.0968139\n",
      "SIM_SALT2mB                20.6445\n",
      "SIM_SALT2alpha                0.14\n",
      "SIM_SALT2beta                  3.2\n",
      "SIM_PEAKMAG_u              22.4319\n",
      "SIM_PEAKMAG_g              20.9042\n",
      "SIM_PEAKMAG_r              20.8247\n",
      "SIM_PEAKMAG_i              20.9189\n",
      "SIM_PEAKMAG_z              21.3932\n",
      "SIM_PEAKMAG_Y              21.6129\n",
      "SIM_EXPOSURE_u                   1\n",
      "SIM_EXPOSURE_g                   1\n",
      "SIM_EXPOSURE_r                   1\n",
      "SIM_EXPOSURE_i                   1\n",
      "SIM_EXPOSURE_z                   1\n",
      "SIM_EXPOSURE_Y                   1\n",
      "SIM_GALFRAC_u                   -9\n",
      "SIM_GALFRAC_g                   -9\n",
      "SIM_GALFRAC_r                   -9\n",
      "SIM_GALFRAC_i                   -9\n",
      "SIM_GALFRAC_z                   -9\n",
      "SIM_GALFRAC_Y                   -9\n",
      "Name: 14121, dtype: object\n"
     ]
    }
   ],
   "source": [
    "print simdata.headData.ix[snid]\n",
    "hd['SIM_SALT2x0'] = hd.SIM_SALT2x0 * 10.0**(-0.4 * 0.27)\n",
    "from collections import OrderedDict as odict\n",
    "hd['params'] = hd[['SIM_PEAKMJD', 'SIM_SALT2x0', 'SIM_SALT2x1', 'SIM_SALT2c', 'REDSHIFT_FINAL', ]].rename(columns=dict(SIM_PEAKMJD='t0', \n",
    "                                                                                    SIM_SALT2x0='x0',\n",
    "                                                                                    SIM_SALT2x1='x1',\n",
    "                                                                                    SIM_SALT2c='c',\n",
    "                                                                                    SIM_MWEBV='ebv',                                   \n",
    "                                                                                    REDSHIFT_FINAL='z')).apply(odict, axis=1)"
   ]
  },
  {
   "cell_type": "code",
   "execution_count": 7,
   "metadata": {
    "collapsed": false
   },
   "outputs": [
    {
     "data": {
      "text/plain": [
       "OrderedDict([('t0', 49576.348),\n",
       "             ('x0', 7.7306686e-05),\n",
       "             ('x1', -1.7649484),\n",
       "             ('c', -0.096813902),\n",
       "             ('z', 0.21050583)])"
      ]
     },
     "execution_count": 7,
     "metadata": {},
     "output_type": "execute_result"
    }
   ],
   "source": [
    "hd['params'].ix[snid]"
   ]
  },
  {
   "cell_type": "code",
   "execution_count": 8,
   "metadata": {
    "collapsed": false
   },
   "outputs": [],
   "source": [
    "dust = sncosmo.CCM89Dust()\n",
    "model = sncosmo.Model(source='salt2-extended', effects=[dust, dust], \n",
    "                     effect_names=['host', 'mw'], effect_frames=['rest', 'obs'])\n",
    "model.set(**hd.ix[snid].params)"
   ]
  },
  {
   "cell_type": "code",
   "execution_count": 9,
   "metadata": {
    "collapsed": false
   },
   "outputs": [
    {
     "data": {
      "image/png": "[encoded data removed]",
      "text/plain": [
       "<matplotlib.figure.Figure at 0x7f968a03f9d0>"
      ]
     },
     "metadata": {},
     "output_type": "display_data"
    }
   ],
   "source": [
    "_ = sncosmo.plot_lc(lcobj.snCosmoLC(), model=model)"
   ]
  },
  {
   "cell_type": "markdown",
   "metadata": {
    "collapsed": true
   },
   "source": [
    "### Inferring the model parameters from the data\n",
    "First we will use a max likelihood method for estimating the model parameters"
   ]
  },
  {
   "cell_type": "code",
   "execution_count": 10,
   "metadata": {
    "collapsed": true
   },
   "outputs": [],
   "source": [
    "fitres = sncosmo.fit_lc(lcobj.snCosmoLC(), model=model, vparam_names=['t0', 'x0', 'x1', 'c'], modelcov=True)"
   ]
  },
  {
   "cell_type": "code",
   "execution_count": 11,
   "metadata": {
    "collapsed": false
   },
   "outputs": [
    {
     "data": {
      "text/plain": [
       "array([  2.10505828e-01,   4.95763707e+04,   6.92959463e-05,\n",
       "        -1.83681661e+00,  -6.07836620e-02,   0.00000000e+00,\n",
       "         3.10000000e+00,   0.00000000e+00,   3.10000000e+00])"
      ]
     },
     "execution_count": 11,
     "metadata": {},
     "output_type": "execute_result"
    }
   ],
   "source": [
    "fitres[0].parameters"
   ]
  },
  {
   "cell_type": "code",
   "execution_count": 12,
   "metadata": {
    "collapsed": false
   },
   "outputs": [
    {
     "data": {
      "text/plain": [
       "z              0.210506\n",
       "t0         49576.370678\n",
       "x0             0.000069\n",
       "x1            -1.836817\n",
       "c             -0.060784\n",
       "hostebv        0.000000\n",
       "hostr_v        3.100000\n",
       "mwebv          0.000000\n",
       "mwr_v          3.100000\n",
       "dtype: float64"
      ]
     },
     "execution_count": 12,
     "metadata": {},
     "output_type": "execute_result"
    }
   ],
   "source": [
    "fitresChar = ans.ResChar.fromSNCosmoRes(fitres)\n",
    "fitresChar.parameters"
   ]
  },
  {
   "cell_type": "code",
   "execution_count": 13,
   "metadata": {
    "collapsed": false
   },
   "outputs": [
    {
     "data": {
      "text/plain": [
       "t0    49576.370678\n",
       "x0        0.000069\n",
       "x1       -1.836817\n",
       "c        -0.060784\n",
       "dtype: float64"
      ]
     },
     "execution_count": 13,
     "metadata": {},
     "output_type": "execute_result"
    }
   ],
   "source": [
    "fitresChar.vparams"
   ]
  },
  {
   "cell_type": "code",
   "execution_count": 14,
   "metadata": {
    "collapsed": false
   },
   "outputs": [
    {
     "data": {
      "text/html": [
       "<div>\n",
       "<table border=\"1\" class=\"dataframe\">\n",
       "  <thead>\n",
       "    <tr style=\"text-align: right;\">\n",
       "      <th></th>\n",
       "      <th>mB</th>\n",
       "      <th>x1</th>\n",
       "      <th>c</th>\n",
       "    </tr>\n",
       "  </thead>\n",
       "  <tbody>\n",
       "    <tr>\n",
       "      <th>mB</th>\n",
       "      <td>0.002252</td>\n",
       "      <td>0.006825</td>\n",
       "      <td>0.001110</td>\n",
       "    </tr>\n",
       "    <tr>\n",
       "      <th>x1</th>\n",
       "      <td>0.006825</td>\n",
       "      <td>0.088111</td>\n",
       "      <td>0.001640</td>\n",
       "    </tr>\n",
       "    <tr>\n",
       "      <th>c</th>\n",
       "      <td>0.001110</td>\n",
       "      <td>0.001640</td>\n",
       "      <td>0.001039</td>\n",
       "    </tr>\n",
       "  </tbody>\n",
       "</table>\n",
       "</div>"
      ],
      "text/plain": [
       "          mB        x1         c\n",
       "mB  0.002252  0.006825  0.001110\n",
       "x1  0.006825  0.088111  0.001640\n",
       "c   0.001110  0.001640  0.001039"
      ]
     },
     "execution_count": 14,
     "metadata": {},
     "output_type": "execute_result"
    }
   ],
   "source": [
    "fitresChar.salt_covariance_linear()"
   ]
  },
  {
   "cell_type": "markdown",
   "metadata": {},
   "source": [
    "Errors on model parameters. Including mu."
   ]
  },
  {
   "cell_type": "code",
   "execution_count": 15,
   "metadata": {
    "collapsed": false
   },
   "outputs": [
    {
     "name": "stdout",
     "output_type": "stream",
     "text": [
      "          mB        x1         c\n",
      "mB  0.002252  0.006825  0.001110\n",
      "x1  0.006825  0.088111  0.001640\n",
      "c   0.001110  0.001640  0.001039 [ 1.    0.14 -3.1 ]\n"
     ]
    },
    {
     "data": {
      "text/plain": [
       "0.087012835907070651"
      ]
     },
     "execution_count": 15,
     "metadata": {},
     "output_type": "execute_result"
    }
   ],
   "source": [
    "fitresChar.mu_variance_linear()** 0.5"
   ]
  },
  {
   "cell_type": "markdown",
   "metadata": {},
   "source": [
    "### What if we did not know z?"
   ]
  },
  {
   "cell_type": "code",
   "execution_count": 16,
   "metadata": {
    "collapsed": false
   },
   "outputs": [],
   "source": [
    "fitres_z = sncosmo.fit_lc(lcobj.snCosmoLC(), model=model, vparam_names=['t0', 'x0', 'x1', 'c', 'z'], guess_z=True, \n",
    "                          bounds=dict(z=(0.1, 0.35)),\n",
    "                          modelcov=True)"
   ]
  },
  {
   "cell_type": "code",
   "execution_count": 17,
   "metadata": {
    "collapsed": false
   },
   "outputs": [
    {
     "data": {
      "text/plain": [
       "z              0.217245\n",
       "t0         49576.345172\n",
       "x0             0.000069\n",
       "x1            -1.837839\n",
       "c             -0.067757\n",
       "hostebv        0.000000\n",
       "hostr_v        3.100000\n",
       "mwebv          0.000000\n",
       "mwr_v          3.100000\n",
       "dtype: float64"
      ]
     },
     "execution_count": 17,
     "metadata": {},
     "output_type": "execute_result"
    }
   ],
   "source": [
    "fitresChar_z = ans.ResChar.fromSNCosmoRes(fitres_z)\n",
    "fitresChar_z.parameters"
   ]
  },
  {
   "cell_type": "code",
   "execution_count": 18,
   "metadata": {
    "collapsed": false
   },
   "outputs": [
    {
     "name": "stdout",
     "output_type": "stream",
     "text": [
      "          mB        x1         c\n",
      "mB  0.002321  0.006343  0.000933\n",
      "x1  0.006343  0.084488  0.001879\n",
      "c   0.000933  0.001879  0.001229 [ 1.    0.14 -3.1 ]\n"
     ]
    },
    {
     "data": {
      "text/plain": [
       "0.1007292534469262"
      ]
     },
     "execution_count": 18,
     "metadata": {},
     "output_type": "execute_result"
    }
   ],
   "source": [
    "fitresChar_z.mu_variance_linear()**0.5"
   ]
  },
  {
   "cell_type": "markdown",
   "metadata": {},
   "source": [
    "### Now we repeat this in a different method\n",
    "The maximum likelihood method above is not good if the likelihood are too far from the Gaussian. A method to sample posteriors is better. Such a method can be based on a MCMC run. We do that here by the following code"
   ]
  },
  {
   "cell_type": "code",
   "execution_count": 21,
   "metadata": {
    "collapsed": false
   },
   "outputs": [],
   "source": [
    "samples = sncosmo.mcmc_lc(lcobj.snCosmoLC(), model=model, vparam_names=['t0', 'x0', 'x1', 'c'], modelcov=True)"
   ]
  },
  {
   "cell_type": "markdown",
   "metadata": {},
   "source": [
    "These are samples of these parameters :"
   ]
  },
  {
   "cell_type": "code",
   "execution_count": 22,
   "metadata": {
    "collapsed": false
   },
   "outputs": [
    {
     "data": {
      "text/html": [
       "<div>\n",
       "<table border=\"1\" class=\"dataframe\">\n",
       "  <thead>\n",
       "    <tr style=\"text-align: right;\">\n",
       "      <th></th>\n",
       "      <th>t0</th>\n",
       "      <th>x0</th>\n",
       "      <th>x1</th>\n",
       "      <th>c</th>\n",
       "    </tr>\n",
       "  </thead>\n",
       "  <tbody>\n",
       "    <tr>\n",
       "      <th>0</th>\n",
       "      <td>49576.210015</td>\n",
       "      <td>0.000078</td>\n",
       "      <td>-2.435445</td>\n",
       "      <td>-0.149629</td>\n",
       "    </tr>\n",
       "    <tr>\n",
       "      <th>1</th>\n",
       "      <td>49576.373573</td>\n",
       "      <td>0.000079</td>\n",
       "      <td>-2.425703</td>\n",
       "      <td>-0.165327</td>\n",
       "    </tr>\n",
       "    <tr>\n",
       "      <th>2</th>\n",
       "      <td>49576.137107</td>\n",
       "      <td>0.000076</td>\n",
       "      <td>-2.405436</td>\n",
       "      <td>-0.129147</td>\n",
       "    </tr>\n",
       "    <tr>\n",
       "      <th>3</th>\n",
       "      <td>49575.809954</td>\n",
       "      <td>0.000079</td>\n",
       "      <td>-2.460816</td>\n",
       "      <td>-0.159886</td>\n",
       "    </tr>\n",
       "    <tr>\n",
       "      <th>4</th>\n",
       "      <td>49576.018760</td>\n",
       "      <td>0.000077</td>\n",
       "      <td>-2.386437</td>\n",
       "      <td>-0.134721</td>\n",
       "    </tr>\n",
       "  </tbody>\n",
       "</table>\n",
       "</div>"
      ],
      "text/plain": [
       "             t0        x0        x1         c\n",
       "0  49576.210015  0.000078 -2.435445 -0.149629\n",
       "1  49576.373573  0.000079 -2.425703 -0.165327\n",
       "2  49576.137107  0.000076 -2.405436 -0.129147\n",
       "3  49575.809954  0.000079 -2.460816 -0.159886\n",
       "4  49576.018760  0.000077 -2.386437 -0.134721"
      ]
     },
     "execution_count": 22,
     "metadata": {},
     "output_type": "execute_result"
    }
   ],
   "source": [
    "ans.ResChar.fromSNCosmoRes(samples).samples.head()"
   ]
  },
  {
   "cell_type": "code",
   "execution_count": 25,
   "metadata": {
    "collapsed": false
   },
   "outputs": [
    {
     "name": "stdout",
     "output_type": "stream",
     "text": [
      "584.010951996\n"
     ]
    }
   ],
   "source": [
    "import time\n",
    "\n",
    "tstart = time.time()\n",
    "samples_z_nomodelcov = sncosmo.mcmc_lc(lcobj.snCosmoLC(), model=model, vparam_names=['z', 't0', 'x0', 'x1', 'c'],\n",
    "                                       bounds=dict(z=(0.1, 0.5)), modelcov=False)\n",
    "tend = time.time()\n",
    "print(tend-tstart)"
   ]
  },
  {
   "cell_type": "code",
   "execution_count": 26,
   "metadata": {
    "collapsed": false
   },
   "outputs": [
    {
     "name": "stdout",
     "output_type": "stream",
     "text": [
      "853.188168049\n"
     ]
    }
   ],
   "source": [
    "tstart = time.time()\n",
    "samples_z = sncosmo.mcmc_lc(lcobj.snCosmoLC(), model=model, vparam_names=['z', 't0', 'x0', 'x1', 'c'],\n",
    "                           bounds=dict(z=(0.2, 0.6)), modelcov=True)\n",
    "tend = time.time()\n",
    "print(tend-tstart)"
   ]
  },
  {
   "cell_type": "code",
   "execution_count": 27,
   "metadata": {
    "collapsed": false
   },
   "outputs": [
    {
     "data": {
      "text/html": [
       "<div>\n",
       "<table border=\"1\" class=\"dataframe\">\n",
       "  <thead>\n",
       "    <tr style=\"text-align: right;\">\n",
       "      <th></th>\n",
       "      <th>z</th>\n",
       "      <th>t0</th>\n",
       "      <th>x0</th>\n",
       "      <th>x1</th>\n",
       "      <th>c</th>\n",
       "    </tr>\n",
       "  </thead>\n",
       "  <tbody>\n",
       "    <tr>\n",
       "      <th>0</th>\n",
       "      <td>0.370704</td>\n",
       "      <td>49589.126525</td>\n",
       "      <td>0.002588</td>\n",
       "      <td>-14.652253</td>\n",
       "      <td>0.286617</td>\n",
       "    </tr>\n",
       "    <tr>\n",
       "      <th>1</th>\n",
       "      <td>0.370704</td>\n",
       "      <td>49589.126525</td>\n",
       "      <td>0.002588</td>\n",
       "      <td>-14.652253</td>\n",
       "      <td>0.286617</td>\n",
       "    </tr>\n",
       "    <tr>\n",
       "      <th>2</th>\n",
       "      <td>0.370704</td>\n",
       "      <td>49589.126525</td>\n",
       "      <td>0.002588</td>\n",
       "      <td>-14.652253</td>\n",
       "      <td>0.286617</td>\n",
       "    </tr>\n",
       "    <tr>\n",
       "      <th>3</th>\n",
       "      <td>0.370704</td>\n",
       "      <td>49589.126525</td>\n",
       "      <td>0.002588</td>\n",
       "      <td>-14.652253</td>\n",
       "      <td>0.286617</td>\n",
       "    </tr>\n",
       "    <tr>\n",
       "      <th>4</th>\n",
       "      <td>0.370704</td>\n",
       "      <td>49589.126525</td>\n",
       "      <td>0.002588</td>\n",
       "      <td>-14.652253</td>\n",
       "      <td>0.286617</td>\n",
       "    </tr>\n",
       "  </tbody>\n",
       "</table>\n",
       "</div>"
      ],
      "text/plain": [
       "          z            t0        x0         x1         c\n",
       "0  0.370704  49589.126525  0.002588 -14.652253  0.286617\n",
       "1  0.370704  49589.126525  0.002588 -14.652253  0.286617\n",
       "2  0.370704  49589.126525  0.002588 -14.652253  0.286617\n",
       "3  0.370704  49589.126525  0.002588 -14.652253  0.286617\n",
       "4  0.370704  49589.126525  0.002588 -14.652253  0.286617"
      ]
     },
     "execution_count": 27,
     "metadata": {},
     "output_type": "execute_result"
    }
   ],
   "source": [
    "ans.ResChar.fromSNCosmoRes(samples_z).samples.head()"
   ]
  },
  {
   "cell_type": "code",
   "execution_count": 28,
   "metadata": {
    "collapsed": false
   },
   "outputs": [
    {
     "data": {
      "text/plain": [
       "<matplotlib.lines.Line2D at 0x7f08ee6fa5d0>"
      ]
     },
     "execution_count": 28,
     "metadata": {},
     "output_type": "execute_result"
    },
    {
     "data": {
      "image/png": "[encoded data removed]",
      "text/plain": [
       "<matplotlib.figure.Figure at 0x7f08ee6fa690>"
      ]
     },
     "metadata": {},
     "output_type": "display_data"
    }
   ],
   "source": [
    "fig, ax = plt.subplots()\n",
    "ans.ResChar.fromSNCosmoRes(samples_z).samples.z.hist(histtype='step', bins=20, lw=2., alpha=1., normed=1, ax=ax)\n",
    "ax.axvline(0.22)"
   ]
  },
  {
   "cell_type": "code",
   "execution_count": null,
   "metadata": {
    "collapsed": true
   },
   "outputs": [],
   "source": []
  }
 ],
 "metadata": {
  "anaconda-cloud": {},
  "kernelspec": {
   "display_name": "Python [conda root]",
   "language": "python",
   "name": "conda-root-py"
  },
  "language_info": {
   "codemirror_mode": {
    "name": "ipython",
    "version": 2
   },
   "file_extension": ".py",
   "mimetype": "text/x-python",
   "name": "python",
   "nbconvert_exporter": "python",
   "pygments_lexer": "ipython2",
   "version": "2.7.12"
  }
 },
 "nbformat": 4,
 "nbformat_minor": 1
}
